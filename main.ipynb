{
 "metadata": {
  "language_info": {
   "codemirror_mode": {
    "name": "ipython",
    "version": 3
   },
   "file_extension": ".py",
   "mimetype": "text/x-python",
   "name": "python",
   "nbconvert_exporter": "python",
   "pygments_lexer": "ipython3",
   "version": "3.8.5-final"
  },
  "orig_nbformat": 2,
  "kernelspec": {
   "name": "python38564bitbaseconda3b4a6addad404a6182759147affbf3ac",
   "display_name": "Python 3.8.5 64-bit ('base': conda)"
  }
 },
 "nbformat": 4,
 "nbformat_minor": 2,
 "cells": [
  {
   "cell_type": "code",
   "execution_count": 2,
   "metadata": {},
   "outputs": [],
   "source": [
    "import tensorflow as tf\n",
    "import tensorflow.keras as tfk\n",
    "import numpy as np\n",
    "from numba import jit"
   ]
  },
  {
   "cell_type": "code",
   "execution_count": 2,
   "metadata": {},
   "outputs": [],
   "source": [
    "class NADE (tfk.Model):\n",
    "    def __init__(self, inshape, num_hidden, **kwargs):\n",
    "        super().__init__(**kwargs)\n",
    "        self.input_shape = inshape\n",
    "        self.D = inshape[0]*inshape[1]\n",
    "        self.N_h = num_hidden\n",
    "        self.flatten = tfk.layers.Flatten(input_shape=inshape)\n",
    "        self.HL = []\n",
    "        self.output_layer = []\n",
    "        for _ in range(self.D):\n",
    "            self.HL.append(tfk.layers.Dense(self.N_h, 'sigmoid'))\n",
    "            self.output_layer.append (tfk.layers.Dense (1,'sigmoid'))\n",
    "\n",
    "        #Implementing weight sharing between hidden layers\n",
    "        with tf.name_scope(self.HL[0].name):\n",
    "            self.HL[0].build(self.D-1)\n",
    "        for i in range (1,self.D-1):\n",
    "            with tf.name_scope(self.HL[i].name):\n",
    "                self.HL[i].build(self.D-i-1)\n",
    "            self.HL[i].kernel = self.HL[0].kernel[:,:(self.D-i-1)]\n",
    "            self.HL[i].bias = self.HL[0].bias\n",
    "            self.HL[i]._trainable_weights = []\n",
    "            self.HL[i]._trainable_weights.append(self.HL[i].kernel)\n",
    "            self.HL[i]._trainable_weights.append(self.HL[i].bias)\n",
    "\n",
    "        with tf.name_scope(self.HL[self.D-1].name):\n",
    "            self.HL[self.D-1].build(1)\n",
    "        self.HL[self.D-1].kernel = self.HL[0].kernel[:, :1]\n",
    "        self.HL[self.D-1].bias = self.HL[0].bias\n",
    "        self.HL[self.D-1]._trainable_weights = []\n",
    "        self.HL[self.D-1]._trainable_weights.append(self.HL[self.D-1].kernel)\n",
    "        self.HL[self.D-1]._trainable_weights.append(self.HL[self.D-1].bias)\n",
    "\n",
    "    def call (self, x):\n",
    "        x = self.flatten (x)\n",
    "        h = []\n",
    "        for i in range (self.D-1):\n",
    "            h.append (self.HL[i] (x[:self.D-i-1]))\n",
    "        #Just make sure self.HL[self.D-1] receives only zero as input\n",
    "        h.append (self.HL[self.D-1](tf.constant (0)))\n",
    "        p = tf.zeros (self.D)\n",
    "        for i in range(self.D):\n",
    "            p[i] = (0.5*(1-x[i]))+x[i]*self.output_layer[i] (h[self.D-i-1])\n",
    "        return tf.reduce_prod (p) #This quantity is the joint probability of the input vector x\n",
    "\n",
    "    @tf.function\n",
    "    def sample (self):\n",
    "        x = []\n",
    "        prob = self.output_layer[0](self.HL[self.D-1](0))\n",
    "        x.append (1 if tf.random.uniform(shape=()) < prob else -1)\n",
    "        for i in reversed (range (self.D-1)):\n",
    "            x_tensor = tf.constant (x)\n",
    "            prob = self.output_layer[self.D-1-i](self.HL[i](x_tensor))\n",
    "            x.append(1 if tf.random.uniform(shape=()) < prob else -1)\n",
    "        return tf.reshape (tf.constant (x), self.input_shape)"
   ]
  },
  {
   "cell_type": "code",
   "execution_count": 4,
   "metadata": {},
   "outputs": [],
   "source": [
    "def custom_loss (y_true, y_pred):\n",
    "    loss_value = -tf.reduce_mean(tf.math.log (y_pred))\n",
    "    return loss_value"
   ]
  },
  {
   "cell_type": "code",
   "execution_count": 6,
   "metadata": {},
   "outputs": [],
   "source": [
    "model = NADE (inshape=(20,20),num_hidden=20)\n",
    "model.compile (optimizer='SGD', loss=custom_loss)"
   ]
  },
  {
   "cell_type": "code",
   "execution_count": 18,
   "metadata": {
    "tags": []
   },
   "outputs": [],
   "source": [
    "def ConverttoBinary (num1, num2, N):\n",
    "    bin_num1 = ('{0:0'+N+'b}').format(num1)\n",
    "    bin_num2 = ('{0:0'+N+'b}').format(num2)\n",
    "    return bin_num1, bin_num2"
   ]
  },
  {
   "cell_type": "code",
   "execution_count": 57,
   "metadata": {},
   "outputs": [],
   "source": [
    "N = 4 #number of particles\n",
    "Ns = str(N)\n",
    "n_rows = 2**N\n",
    "H = np.zeros ((n_rows,n_rows), np.float64)\n",
    "for i in range (n_rows):\n",
    "    for j in range (n_rows):\n",
    "        x, y = ConverttoBinary (i, j, Ns)\n",
    "        if i == j:\n",
    "            val = 0.\n",
    "            for k in range (N-1):\n",
    "                if x[k] == x[k+1]:\n",
    "                    val += 0.25\n",
    "                else:\n",
    "                    val -= 0.25\n",
    "            H[i,j] = val\n",
    "        else:\n",
    "            flag = 0\n",
    "            k = 0\n",
    "            while k < N:\n",
    "                if x[k] == y[k]:\n",
    "                    k += 1\n",
    "                    continue\n",
    "                elif flag == 1:\n",
    "                    flag = 2\n",
    "                    break\n",
    "                elif k < N-1 and (x[k] == y[k+1] and x[k+1] == y[k]):\n",
    "                    flag = 1\n",
    "                    k += 2\n",
    "                elif flag == 0:\n",
    "                    flag = 2\n",
    "                    break\n",
    "            if flag == 1:\n",
    "                H[i,j] = 0.5"
   ]
  },
  {
   "cell_type": "code",
   "execution_count": 61,
   "metadata": {},
   "outputs": [
    {
     "output_type": "execute_result",
     "data": {
      "text/plain": [
       "(40,)"
      ]
     },
     "metadata": {},
     "execution_count": 61
    }
   ],
   "source": [
    "np.nonzero (H)[0]"
   ]
  },
  {
   "cell_type": "code",
   "execution_count": null,
   "metadata": {},
   "outputs": [],
   "source": []
  }
 ]
}